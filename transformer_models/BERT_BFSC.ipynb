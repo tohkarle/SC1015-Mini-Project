{
 "cells": [
  {
   "attachments": {},
   "cell_type": "markdown",
   "metadata": {},
   "source": [
    "# BERT Model for Disaster Tweet Classification\n",
    "\n",
    "In this Notebook, we will train a BERT model to classify tweets as disaster-related or not. We will use the preprocessed `train_data_mod.csv`, which contains the text and numerical features, to train the BERT model. <br>\n",
    "We will be using `text + keyword + tweet length + punctuation count` as a feature. "
   ]
  },
  {
   "attachments": {},
   "cell_type": "markdown",
   "metadata": {},
   "source": [
    "## Import the necessary Libraries"
   ]
  },
  {
   "cell_type": "code",
   "execution_count": 2,
   "metadata": {},
   "outputs": [],
   "source": [
    "import pandas as pd\n",
    "import torch\n",
    "from sklearn.model_selection import train_test_split\n",
    "from sklearn.metrics import accuracy_score\n",
    "from transformers import BertTokenizer, BertConfig, BertForSequenceClassification, TrainingArguments, Trainer, TextClassificationPipeline\n",
    "import re"
   ]
  },
  {
   "attachments": {},
   "cell_type": "markdown",
   "metadata": {},
   "source": [
    "## Load the Dataset"
   ]
  },
  {
   "cell_type": "code",
   "execution_count": 5,
   "metadata": {},
   "outputs": [],
   "source": [
    "# Load dataset\n",
    "train = pd.read_csv('../preprocessing/train_data_mod.csv')\n",
    "test = pd.read_csv('../preprocessing/test_data_mod.csv')"
   ]
  },
  {
   "cell_type": "code",
   "execution_count": 6,
   "metadata": {},
   "outputs": [],
   "source": [
    "# drop unnecessary columns\n",
    "drop_cols = ['location', 'preprocess_text','bigram','trigram', 'pos']"
   ]
  },
  {
   "cell_type": "code",
   "execution_count": 7,
   "metadata": {},
   "outputs": [],
   "source": [
    "train.drop(drop_cols, axis=1, inplace=True)\n",
    "test.drop(drop_cols, axis=1, inplace=True)"
   ]
  },
  {
   "cell_type": "code",
   "execution_count": 8,
   "metadata": {},
   "outputs": [
    {
     "data": {
      "text/html": [
       "<div>\n",
       "<style scoped>\n",
       "    .dataframe tbody tr th:only-of-type {\n",
       "        vertical-align: middle;\n",
       "    }\n",
       "\n",
       "    .dataframe tbody tr th {\n",
       "        vertical-align: top;\n",
       "    }\n",
       "\n",
       "    .dataframe thead th {\n",
       "        text-align: right;\n",
       "    }\n",
       "</style>\n",
       "<table border=\"1\" class=\"dataframe\">\n",
       "  <thead>\n",
       "    <tr style=\"text-align: right;\">\n",
       "      <th></th>\n",
       "      <th>id</th>\n",
       "      <th>keyword</th>\n",
       "      <th>text</th>\n",
       "      <th>keyword_encoded</th>\n",
       "      <th>tweet_length</th>\n",
       "      <th>punctuation_count</th>\n",
       "      <th>concatenated</th>\n",
       "    </tr>\n",
       "  </thead>\n",
       "  <tbody>\n",
       "    <tr>\n",
       "      <th>0</th>\n",
       "      <td>0</td>\n",
       "      <td>missing</td>\n",
       "      <td>Just happened a terrible car crash</td>\n",
       "      <td>0.684304</td>\n",
       "      <td>34</td>\n",
       "      <td>0</td>\n",
       "      <td>Just happened a terrible car crash (Keyword: m...</td>\n",
       "    </tr>\n",
       "    <tr>\n",
       "      <th>1</th>\n",
       "      <td>2</td>\n",
       "      <td>missing</td>\n",
       "      <td>Heard about #earthquake is different cities, s...</td>\n",
       "      <td>0.684304</td>\n",
       "      <td>64</td>\n",
       "      <td>3</td>\n",
       "      <td>Heard about #earthquake is different cities, s...</td>\n",
       "    </tr>\n",
       "    <tr>\n",
       "      <th>2</th>\n",
       "      <td>3</td>\n",
       "      <td>missing</td>\n",
       "      <td>there is a forest fire at spot pond, geese are...</td>\n",
       "      <td>0.684304</td>\n",
       "      <td>96</td>\n",
       "      <td>2</td>\n",
       "      <td>there is a forest fire at spot pond, geese are...</td>\n",
       "    </tr>\n",
       "    <tr>\n",
       "      <th>3</th>\n",
       "      <td>9</td>\n",
       "      <td>missing</td>\n",
       "      <td>Apocalypse lighting. #Spokane #wildfires</td>\n",
       "      <td>0.684304</td>\n",
       "      <td>40</td>\n",
       "      <td>3</td>\n",
       "      <td>Apocalypse lighting. #Spokane #wildfires (Keyw...</td>\n",
       "    </tr>\n",
       "    <tr>\n",
       "      <th>4</th>\n",
       "      <td>11</td>\n",
       "      <td>missing</td>\n",
       "      <td>Typhoon Soudelor kills 28 in China and Taiwan</td>\n",
       "      <td>0.684304</td>\n",
       "      <td>45</td>\n",
       "      <td>0</td>\n",
       "      <td>Typhoon Soudelor kills 28 in China and Taiwan ...</td>\n",
       "    </tr>\n",
       "    <tr>\n",
       "      <th>...</th>\n",
       "      <td>...</td>\n",
       "      <td>...</td>\n",
       "      <td>...</td>\n",
       "      <td>...</td>\n",
       "      <td>...</td>\n",
       "      <td>...</td>\n",
       "      <td>...</td>\n",
       "    </tr>\n",
       "    <tr>\n",
       "      <th>3258</th>\n",
       "      <td>10861</td>\n",
       "      <td>missing</td>\n",
       "      <td>EARTHQUAKE SAFETY LOS ANGELES ÛÒ SAFETY FASTE...</td>\n",
       "      <td>0.684304</td>\n",
       "      <td>55</td>\n",
       "      <td>0</td>\n",
       "      <td>EARTHQUAKE SAFETY LOS ANGELES ÛÒ SAFETY FASTE...</td>\n",
       "    </tr>\n",
       "    <tr>\n",
       "      <th>3259</th>\n",
       "      <td>10865</td>\n",
       "      <td>missing</td>\n",
       "      <td>Storm in RI worse than last hurricane. My city...</td>\n",
       "      <td>0.684304</td>\n",
       "      <td>139</td>\n",
       "      <td>5</td>\n",
       "      <td>Storm in RI worse than last hurricane. My city...</td>\n",
       "    </tr>\n",
       "    <tr>\n",
       "      <th>3260</th>\n",
       "      <td>10868</td>\n",
       "      <td>missing</td>\n",
       "      <td>Green Line derailment in Chicago http://t.co/U...</td>\n",
       "      <td>0.684304</td>\n",
       "      <td>55</td>\n",
       "      <td>5</td>\n",
       "      <td>Green Line derailment in Chicago http://t.co/U...</td>\n",
       "    </tr>\n",
       "    <tr>\n",
       "      <th>3261</th>\n",
       "      <td>10874</td>\n",
       "      <td>missing</td>\n",
       "      <td>MEG issues Hazardous Weather Outlook (HWO) htt...</td>\n",
       "      <td>0.684304</td>\n",
       "      <td>65</td>\n",
       "      <td>7</td>\n",
       "      <td>MEG issues Hazardous Weather Outlook (HWO) htt...</td>\n",
       "    </tr>\n",
       "    <tr>\n",
       "      <th>3262</th>\n",
       "      <td>10875</td>\n",
       "      <td>missing</td>\n",
       "      <td>#CityofCalgary has activated its Municipal Eme...</td>\n",
       "      <td>0.684304</td>\n",
       "      <td>68</td>\n",
       "      <td>3</td>\n",
       "      <td>#CityofCalgary has activated its Municipal Eme...</td>\n",
       "    </tr>\n",
       "  </tbody>\n",
       "</table>\n",
       "<p>3263 rows × 7 columns</p>\n",
       "</div>"
      ],
      "text/plain": [
       "         id  keyword                                               text   \n",
       "0         0  missing                 Just happened a terrible car crash  \\\n",
       "1         2  missing  Heard about #earthquake is different cities, s...   \n",
       "2         3  missing  there is a forest fire at spot pond, geese are...   \n",
       "3         9  missing           Apocalypse lighting. #Spokane #wildfires   \n",
       "4        11  missing      Typhoon Soudelor kills 28 in China and Taiwan   \n",
       "...     ...      ...                                                ...   \n",
       "3258  10861  missing  EARTHQUAKE SAFETY LOS ANGELES ÛÒ SAFETY FASTE...   \n",
       "3259  10865  missing  Storm in RI worse than last hurricane. My city...   \n",
       "3260  10868  missing  Green Line derailment in Chicago http://t.co/U...   \n",
       "3261  10874  missing  MEG issues Hazardous Weather Outlook (HWO) htt...   \n",
       "3262  10875  missing  #CityofCalgary has activated its Municipal Eme...   \n",
       "\n",
       "      keyword_encoded  tweet_length  punctuation_count   \n",
       "0            0.684304            34                  0  \\\n",
       "1            0.684304            64                  3   \n",
       "2            0.684304            96                  2   \n",
       "3            0.684304            40                  3   \n",
       "4            0.684304            45                  0   \n",
       "...               ...           ...                ...   \n",
       "3258         0.684304            55                  0   \n",
       "3259         0.684304           139                  5   \n",
       "3260         0.684304            55                  5   \n",
       "3261         0.684304            65                  7   \n",
       "3262         0.684304            68                  3   \n",
       "\n",
       "                                           concatenated  \n",
       "0     Just happened a terrible car crash (Keyword: m...  \n",
       "1     Heard about #earthquake is different cities, s...  \n",
       "2     there is a forest fire at spot pond, geese are...  \n",
       "3     Apocalypse lighting. #Spokane #wildfires (Keyw...  \n",
       "4     Typhoon Soudelor kills 28 in China and Taiwan ...  \n",
       "...                                                 ...  \n",
       "3258  EARTHQUAKE SAFETY LOS ANGELES ÛÒ SAFETY FASTE...  \n",
       "3259  Storm in RI worse than last hurricane. My city...  \n",
       "3260  Green Line derailment in Chicago http://t.co/U...  \n",
       "3261  MEG issues Hazardous Weather Outlook (HWO) htt...  \n",
       "3262  #CityofCalgary has activated its Municipal Eme...  \n",
       "\n",
       "[3263 rows x 7 columns]"
      ]
     },
     "execution_count": 8,
     "metadata": {},
     "output_type": "execute_result"
    }
   ],
   "source": [
    "# Concatenate keyword and text so that it can be passed to GPT-2 model as input\n",
    "def concatenate_columns(df, text_col, keyword_col, tweet_length_col, punctuation_count_col):\n",
    "    df['concatenated'] = df[text_col] + ' (Keyword: ' + df[keyword_col] + ', Tweet Length: ' + df[tweet_length_col].astype(str) + ', Punctuation Count: ' + df[punctuation_count_col].astype(str) + ')'\n",
    "    return df\n",
    "\n",
    "concatenate_columns(train, 'text', 'keyword', 'tweet_length', 'punctuation_count')\n",
    "concatenate_columns(test, 'text', 'keyword', 'tweet_length', 'punctuation_count')\n"
   ]
  },
  {
   "cell_type": "code",
   "execution_count": 9,
   "metadata": {},
   "outputs": [],
   "source": [
    "train_data = train.copy()\n",
    "test_data = test.copy()"
   ]
  },
  {
   "attachments": {},
   "cell_type": "markdown",
   "metadata": {},
   "source": [
    "#### To use `concatenated` Feature"
   ]
  },
  {
   "cell_type": "code",
   "execution_count": 11,
   "metadata": {},
   "outputs": [],
   "source": [
    "# Split the training data into train set and validation set\n",
    "X_train, X_val, y_train, y_val = train_test_split(train_data[\"concatenated\"], train_data[\"target\"], test_size=0.2, random_state=42)"
   ]
  },
  {
   "attachments": {},
   "cell_type": "markdown",
   "metadata": {},
   "source": [
    "## Load and Prepare BERT Model"
   ]
  },
  {
   "attachments": {},
   "cell_type": "markdown",
   "metadata": {},
   "source": [
    "#### Dataset for `concatenated` feature"
   ]
  },
  {
   "cell_type": "code",
   "execution_count": 12,
   "metadata": {},
   "outputs": [
    {
     "name": "stderr",
     "output_type": "stream",
     "text": [
      "Some weights of the model checkpoint at bert-base-uncased were not used when initializing BertForSequenceClassification: ['cls.predictions.bias', 'cls.predictions.transform.LayerNorm.weight', 'cls.predictions.decoder.weight', 'cls.seq_relationship.weight', 'cls.predictions.transform.dense.bias', 'cls.predictions.transform.LayerNorm.bias', 'cls.seq_relationship.bias', 'cls.predictions.transform.dense.weight']\n",
      "- This IS expected if you are initializing BertForSequenceClassification from the checkpoint of a model trained on another task or with another architecture (e.g. initializing a BertForSequenceClassification model from a BertForPreTraining model).\n",
      "- This IS NOT expected if you are initializing BertForSequenceClassification from the checkpoint of a model that you expect to be exactly identical (initializing a BertForSequenceClassification model from a BertForSequenceClassification model).\n",
      "Some weights of BertForSequenceClassification were not initialized from the model checkpoint at bert-base-uncased and are newly initialized: ['classifier.weight', 'classifier.bias']\n",
      "You should probably TRAIN this model on a down-stream task to be able to use it for predictions and inference.\n"
     ]
    }
   ],
   "source": [
    "# Load the BERT tokenizer, model, and configuration\n",
    "tokenizer = BertTokenizer.from_pretrained(\"bert-base-uncased\")\n",
    "config = BertConfig.from_pretrained(\"bert-base-uncased\", num_labels=2)\n",
    "\n",
    "model = BertForSequenceClassification.from_pretrained(\"bert-base-uncased\", config=config)\n",
    "\n",
    "# Tokenize the training and validation data\n",
    "train_encodings = tokenizer(X_train.to_list(), truncation=True, padding=True)\n",
    "val_encodings = tokenizer(X_val.to_list(), truncation=True, padding=True)\n",
    "\n",
    "# Create a dataset object for the trainer\n",
    "class DisasterDataset(torch.utils.data.Dataset):\n",
    "    def __init__(self, encodings, labels):\n",
    "        self.encodings = encodings\n",
    "        self.labels = labels\n",
    "\n",
    "    def __getitem__(self, idx):\n",
    "        item = {key: torch.tensor(val[idx]) for key, val in self.encodings.items()}\n",
    "        item[\"labels\"] = torch.tensor(self.labels[idx])\n",
    "        return item\n",
    "\n",
    "    def __len__(self):\n",
    "        return len(self.labels)\n",
    "\n",
    "train_dataset = DisasterDataset(train_encodings, y_train.to_list())\n",
    "val_dataset = DisasterDataset(val_encodings, y_val.to_list())\n"
   ]
  },
  {
   "attachments": {},
   "cell_type": "markdown",
   "metadata": {},
   "source": [
    "## Train the BERT Model (`concatenated` feature)"
   ]
  },
  {
   "cell_type": "code",
   "execution_count": 24,
   "metadata": {},
   "outputs": [
    {
     "name": "stderr",
     "output_type": "stream",
     "text": [
      "c:\\Users\\yuhao\\AppData\\Local\\Programs\\Python\\Python311\\Lib\\site-packages\\transformers\\optimization.py:391: FutureWarning: This implementation of AdamW is deprecated and will be removed in a future version. Use the PyTorch implementation torch.optim.AdamW instead, or set `no_deprecation_warning=True` to disable this warning\n",
      "  warnings.warn(\n"
     ]
    },
    {
     "data": {
      "application/vnd.jupyter.widget-view+json": {
       "model_id": "6d7305e86f3c4f9e938dbefa05dda356",
       "version_major": 2,
       "version_minor": 0
      },
      "text/plain": [
       "  0%|          | 0/2286 [00:00<?, ?it/s]"
      ]
     },
     "metadata": {},
     "output_type": "display_data"
    },
    {
     "name": "stdout",
     "output_type": "stream",
     "text": [
      "{'loss': 0.6148, 'learning_rate': 4.781277340332459e-05, 'epoch': 0.13}\n"
     ]
    },
    {
     "data": {
      "application/vnd.jupyter.widget-view+json": {
       "model_id": "80d58e4b84b84aaab22da2020109c47c",
       "version_major": 2,
       "version_minor": 0
      },
      "text/plain": [
       "  0%|          | 0/191 [00:00<?, ?it/s]"
      ]
     },
     "metadata": {},
     "output_type": "display_data"
    },
    {
     "name": "stdout",
     "output_type": "stream",
     "text": [
      "{'eval_loss': 0.4875624179840088, 'eval_runtime': 255.2915, 'eval_samples_per_second': 5.966, 'eval_steps_per_second': 0.748, 'epoch': 0.13}\n",
      "{'loss': 0.482, 'learning_rate': 4.562554680664917e-05, 'epoch': 0.26}\n"
     ]
    },
    {
     "data": {
      "application/vnd.jupyter.widget-view+json": {
       "model_id": "bdce21ca35c14962bb8d9e7094eb5d69",
       "version_major": 2,
       "version_minor": 0
      },
      "text/plain": [
       "  0%|          | 0/191 [00:00<?, ?it/s]"
      ]
     },
     "metadata": {},
     "output_type": "display_data"
    },
    {
     "name": "stdout",
     "output_type": "stream",
     "text": [
      "{'eval_loss': 0.5174693465232849, 'eval_runtime': 249.9063, 'eval_samples_per_second': 6.094, 'eval_steps_per_second': 0.764, 'epoch': 0.26}\n",
      "{'loss': 0.5063, 'learning_rate': 4.343832020997376e-05, 'epoch': 0.39}\n"
     ]
    },
    {
     "data": {
      "application/vnd.jupyter.widget-view+json": {
       "model_id": "4fe591b1d38543ddba2d7d6dfda46057",
       "version_major": 2,
       "version_minor": 0
      },
      "text/plain": [
       "  0%|          | 0/191 [00:00<?, ?it/s]"
      ]
     },
     "metadata": {},
     "output_type": "display_data"
    },
    {
     "name": "stdout",
     "output_type": "stream",
     "text": [
      "{'eval_loss': 0.45857372879981995, 'eval_runtime': 250.7064, 'eval_samples_per_second': 6.075, 'eval_steps_per_second': 0.762, 'epoch': 0.39}\n",
      "{'loss': 0.513, 'learning_rate': 4.125109361329834e-05, 'epoch': 0.52}\n"
     ]
    },
    {
     "data": {
      "application/vnd.jupyter.widget-view+json": {
       "model_id": "c73da0e5988a4ad09b73d0c22f86bfb0",
       "version_major": 2,
       "version_minor": 0
      },
      "text/plain": [
       "  0%|          | 0/191 [00:00<?, ?it/s]"
      ]
     },
     "metadata": {},
     "output_type": "display_data"
    },
    {
     "name": "stdout",
     "output_type": "stream",
     "text": [
      "{'eval_loss': 0.4847326874732971, 'eval_runtime': 249.4074, 'eval_samples_per_second': 6.106, 'eval_steps_per_second': 0.766, 'epoch': 0.52}\n",
      "{'loss': 0.4445, 'learning_rate': 3.906386701662293e-05, 'epoch': 0.66}\n"
     ]
    },
    {
     "data": {
      "application/vnd.jupyter.widget-view+json": {
       "model_id": "add12e9c330e4fe9b7bac6a4e25a11aa",
       "version_major": 2,
       "version_minor": 0
      },
      "text/plain": [
       "  0%|          | 0/191 [00:00<?, ?it/s]"
      ]
     },
     "metadata": {},
     "output_type": "display_data"
    },
    {
     "name": "stdout",
     "output_type": "stream",
     "text": [
      "{'eval_loss': 0.4879402816295624, 'eval_runtime': 253.1899, 'eval_samples_per_second': 6.015, 'eval_steps_per_second': 0.754, 'epoch': 0.66}\n",
      "{'loss': 0.5234, 'learning_rate': 3.6876640419947505e-05, 'epoch': 0.79}\n"
     ]
    },
    {
     "data": {
      "application/vnd.jupyter.widget-view+json": {
       "model_id": "525be4e63f5045ea8b0dc002bcec164f",
       "version_major": 2,
       "version_minor": 0
      },
      "text/plain": [
       "  0%|          | 0/191 [00:00<?, ?it/s]"
      ]
     },
     "metadata": {},
     "output_type": "display_data"
    },
    {
     "name": "stdout",
     "output_type": "stream",
     "text": [
      "{'eval_loss': 0.4721556603908539, 'eval_runtime': 244.805, 'eval_samples_per_second': 6.221, 'eval_steps_per_second': 0.78, 'epoch': 0.79}\n",
      "{'loss': 0.5134, 'learning_rate': 3.468941382327209e-05, 'epoch': 0.92}\n"
     ]
    },
    {
     "data": {
      "application/vnd.jupyter.widget-view+json": {
       "model_id": "51d4cd75ad4e42409f2912f985ccbbf3",
       "version_major": 2,
       "version_minor": 0
      },
      "text/plain": [
       "  0%|          | 0/191 [00:00<?, ?it/s]"
      ]
     },
     "metadata": {},
     "output_type": "display_data"
    },
    {
     "name": "stdout",
     "output_type": "stream",
     "text": [
      "{'eval_loss': 0.435921847820282, 'eval_runtime': 245.1092, 'eval_samples_per_second': 6.214, 'eval_steps_per_second': 0.779, 'epoch': 0.92}\n",
      "{'loss': 0.47, 'learning_rate': 3.2502187226596675e-05, 'epoch': 1.05}\n"
     ]
    },
    {
     "data": {
      "application/vnd.jupyter.widget-view+json": {
       "model_id": "df121b40141746b69c6bddd058151dc1",
       "version_major": 2,
       "version_minor": 0
      },
      "text/plain": [
       "  0%|          | 0/191 [00:00<?, ?it/s]"
      ]
     },
     "metadata": {},
     "output_type": "display_data"
    },
    {
     "name": "stdout",
     "output_type": "stream",
     "text": [
      "{'eval_loss': 0.4961444139480591, 'eval_runtime': 243.9268, 'eval_samples_per_second': 6.244, 'eval_steps_per_second': 0.783, 'epoch': 1.05}\n",
      "{'loss': 0.4238, 'learning_rate': 3.0314960629921263e-05, 'epoch': 1.18}\n"
     ]
    },
    {
     "data": {
      "application/vnd.jupyter.widget-view+json": {
       "model_id": "320a86d831be43e38f47b162ac16f63c",
       "version_major": 2,
       "version_minor": 0
      },
      "text/plain": [
       "  0%|          | 0/191 [00:00<?, ?it/s]"
      ]
     },
     "metadata": {},
     "output_type": "display_data"
    },
    {
     "name": "stdout",
     "output_type": "stream",
     "text": [
      "{'eval_loss': 0.4968095123767853, 'eval_runtime': 243.9017, 'eval_samples_per_second': 6.244, 'eval_steps_per_second': 0.783, 'epoch': 1.18}\n",
      "{'loss': 0.4861, 'learning_rate': 2.8127734033245845e-05, 'epoch': 1.31}\n"
     ]
    },
    {
     "data": {
      "application/vnd.jupyter.widget-view+json": {
       "model_id": "f9a4a5c8f2e44dd19f28b836f5a63f6d",
       "version_major": 2,
       "version_minor": 0
      },
      "text/plain": [
       "  0%|          | 0/191 [00:00<?, ?it/s]"
      ]
     },
     "metadata": {},
     "output_type": "display_data"
    },
    {
     "name": "stdout",
     "output_type": "stream",
     "text": [
      "{'eval_loss': 0.49044644832611084, 'eval_runtime': 245.8332, 'eval_samples_per_second': 6.195, 'eval_steps_per_second': 0.777, 'epoch': 1.31}\n",
      "{'loss': 0.3873, 'learning_rate': 2.5940507436570433e-05, 'epoch': 1.44}\n"
     ]
    },
    {
     "data": {
      "application/vnd.jupyter.widget-view+json": {
       "model_id": "3c44e6892aeb43b4932e5edcd788f907",
       "version_major": 2,
       "version_minor": 0
      },
      "text/plain": [
       "  0%|          | 0/191 [00:00<?, ?it/s]"
      ]
     },
     "metadata": {},
     "output_type": "display_data"
    },
    {
     "name": "stdout",
     "output_type": "stream",
     "text": [
      "{'eval_loss': 0.4620560109615326, 'eval_runtime': 245.0435, 'eval_samples_per_second': 6.215, 'eval_steps_per_second': 0.779, 'epoch': 1.44}\n",
      "{'loss': 0.4011, 'learning_rate': 2.3753280839895015e-05, 'epoch': 1.57}\n"
     ]
    },
    {
     "data": {
      "application/vnd.jupyter.widget-view+json": {
       "model_id": "40f1ffb2ccca462aba78ee4827ad96f1",
       "version_major": 2,
       "version_minor": 0
      },
      "text/plain": [
       "  0%|          | 0/191 [00:00<?, ?it/s]"
      ]
     },
     "metadata": {},
     "output_type": "display_data"
    },
    {
     "name": "stdout",
     "output_type": "stream",
     "text": [
      "{'eval_loss': 0.4953397810459137, 'eval_runtime': 244.1112, 'eval_samples_per_second': 6.239, 'eval_steps_per_second': 0.782, 'epoch': 1.57}\n",
      "{'loss': 0.407, 'learning_rate': 2.15660542432196e-05, 'epoch': 1.71}\n"
     ]
    },
    {
     "data": {
      "application/vnd.jupyter.widget-view+json": {
       "model_id": "d97d9491762d47e187a1cd1f79f23849",
       "version_major": 2,
       "version_minor": 0
      },
      "text/plain": [
       "  0%|          | 0/191 [00:00<?, ?it/s]"
      ]
     },
     "metadata": {},
     "output_type": "display_data"
    },
    {
     "name": "stdout",
     "output_type": "stream",
     "text": [
      "{'eval_loss': 0.4638795256614685, 'eval_runtime': 243.0661, 'eval_samples_per_second': 6.266, 'eval_steps_per_second': 0.786, 'epoch': 1.71}\n",
      "{'loss': 0.4172, 'learning_rate': 1.9378827646544184e-05, 'epoch': 1.84}\n"
     ]
    },
    {
     "data": {
      "application/vnd.jupyter.widget-view+json": {
       "model_id": "e2bb6ca67cf14ec0b447dad23273828d",
       "version_major": 2,
       "version_minor": 0
      },
      "text/plain": [
       "  0%|          | 0/191 [00:00<?, ?it/s]"
      ]
     },
     "metadata": {},
     "output_type": "display_data"
    },
    {
     "name": "stdout",
     "output_type": "stream",
     "text": [
      "{'eval_loss': 0.45550283789634705, 'eval_runtime': 243.6759, 'eval_samples_per_second': 6.25, 'eval_steps_per_second': 0.784, 'epoch': 1.84}\n",
      "{'loss': 0.3378, 'learning_rate': 1.7191601049868766e-05, 'epoch': 1.97}\n"
     ]
    },
    {
     "data": {
      "application/vnd.jupyter.widget-view+json": {
       "model_id": "8247e962b47a4f2fa3ccaca6a81c51a9",
       "version_major": 2,
       "version_minor": 0
      },
      "text/plain": [
       "  0%|          | 0/191 [00:00<?, ?it/s]"
      ]
     },
     "metadata": {},
     "output_type": "display_data"
    },
    {
     "name": "stdout",
     "output_type": "stream",
     "text": [
      "{'eval_loss': 0.5167525410652161, 'eval_runtime': 242.7431, 'eval_samples_per_second': 6.274, 'eval_steps_per_second': 0.787, 'epoch': 1.97}\n",
      "{'loss': 0.3473, 'learning_rate': 1.500437445319335e-05, 'epoch': 2.1}\n"
     ]
    },
    {
     "data": {
      "application/vnd.jupyter.widget-view+json": {
       "model_id": "a20b2167725f487483103b0d80f5fe3f",
       "version_major": 2,
       "version_minor": 0
      },
      "text/plain": [
       "  0%|          | 0/191 [00:00<?, ?it/s]"
      ]
     },
     "metadata": {},
     "output_type": "display_data"
    },
    {
     "name": "stdout",
     "output_type": "stream",
     "text": [
      "{'eval_loss': 0.5759838223457336, 'eval_runtime': 243.4682, 'eval_samples_per_second': 6.255, 'eval_steps_per_second': 0.784, 'epoch': 2.1}\n",
      "{'loss': 0.3681, 'learning_rate': 1.2817147856517936e-05, 'epoch': 2.23}\n"
     ]
    },
    {
     "data": {
      "application/vnd.jupyter.widget-view+json": {
       "model_id": "5a9ae7182f9647e1a46366991911d1d4",
       "version_major": 2,
       "version_minor": 0
      },
      "text/plain": [
       "  0%|          | 0/191 [00:00<?, ?it/s]"
      ]
     },
     "metadata": {},
     "output_type": "display_data"
    },
    {
     "name": "stdout",
     "output_type": "stream",
     "text": [
      "{'eval_loss': 0.46521010994911194, 'eval_runtime': 242.9739, 'eval_samples_per_second': 6.268, 'eval_steps_per_second': 0.786, 'epoch': 2.23}\n",
      "{'loss': 0.3229, 'learning_rate': 1.062992125984252e-05, 'epoch': 2.36}\n"
     ]
    },
    {
     "data": {
      "application/vnd.jupyter.widget-view+json": {
       "model_id": "0d73644c241c4876a02a426d5d6295ea",
       "version_major": 2,
       "version_minor": 0
      },
      "text/plain": [
       "  0%|          | 0/191 [00:00<?, ?it/s]"
      ]
     },
     "metadata": {},
     "output_type": "display_data"
    },
    {
     "name": "stdout",
     "output_type": "stream",
     "text": [
      "{'eval_loss': 0.5078739523887634, 'eval_runtime': 242.2326, 'eval_samples_per_second': 6.287, 'eval_steps_per_second': 0.788, 'epoch': 2.36}\n",
      "{'loss': 0.3393, 'learning_rate': 8.442694663167104e-06, 'epoch': 2.49}\n"
     ]
    },
    {
     "data": {
      "application/vnd.jupyter.widget-view+json": {
       "model_id": "e3a68e2c03864b4aa4c2720f470fa173",
       "version_major": 2,
       "version_minor": 0
      },
      "text/plain": [
       "  0%|          | 0/191 [00:00<?, ?it/s]"
      ]
     },
     "metadata": {},
     "output_type": "display_data"
    },
    {
     "name": "stdout",
     "output_type": "stream",
     "text": [
      "{'eval_loss': 0.541698694229126, 'eval_runtime': 265.9291, 'eval_samples_per_second': 5.727, 'eval_steps_per_second': 0.718, 'epoch': 2.49}\n",
      "{'loss': 0.3041, 'learning_rate': 6.255468066491689e-06, 'epoch': 2.62}\n"
     ]
    },
    {
     "data": {
      "application/vnd.jupyter.widget-view+json": {
       "model_id": "0e7ca8d87a904c65a4c6432297bf4162",
       "version_major": 2,
       "version_minor": 0
      },
      "text/plain": [
       "  0%|          | 0/191 [00:00<?, ?it/s]"
      ]
     },
     "metadata": {},
     "output_type": "display_data"
    },
    {
     "name": "stdout",
     "output_type": "stream",
     "text": [
      "{'eval_loss': 0.5782315731048584, 'eval_runtime': 261.1707, 'eval_samples_per_second': 5.831, 'eval_steps_per_second': 0.731, 'epoch': 2.62}\n",
      "{'loss': 0.3827, 'learning_rate': 4.068241469816273e-06, 'epoch': 2.76}\n"
     ]
    },
    {
     "data": {
      "application/vnd.jupyter.widget-view+json": {
       "model_id": "c580ac69716c402fb9b52145cd0cfae7",
       "version_major": 2,
       "version_minor": 0
      },
      "text/plain": [
       "  0%|          | 0/191 [00:00<?, ?it/s]"
      ]
     },
     "metadata": {},
     "output_type": "display_data"
    },
    {
     "name": "stdout",
     "output_type": "stream",
     "text": [
      "{'eval_loss': 0.5548914074897766, 'eval_runtime': 266.4849, 'eval_samples_per_second': 5.715, 'eval_steps_per_second': 0.717, 'epoch': 2.76}\n",
      "{'loss': 0.3882, 'learning_rate': 1.8810148731408575e-06, 'epoch': 2.89}\n"
     ]
    },
    {
     "data": {
      "application/vnd.jupyter.widget-view+json": {
       "model_id": "871a8a529d264df29941c042f43cc3d6",
       "version_major": 2,
       "version_minor": 0
      },
      "text/plain": [
       "  0%|          | 0/191 [00:00<?, ?it/s]"
      ]
     },
     "metadata": {},
     "output_type": "display_data"
    },
    {
     "name": "stdout",
     "output_type": "stream",
     "text": [
      "{'eval_loss': 0.5187697410583496, 'eval_runtime': 261.3173, 'eval_samples_per_second': 5.828, 'eval_steps_per_second': 0.731, 'epoch': 2.89}\n",
      "{'train_runtime': 15537.9677, 'train_samples_per_second': 1.176, 'train_steps_per_second': 0.147, 'train_loss': 0.42315439456195447, 'epoch': 3.0}\n"
     ]
    },
    {
     "data": {
      "text/plain": [
       "TrainOutput(global_step=2286, training_loss=0.42315439456195447, metrics={'train_runtime': 15537.9677, 'train_samples_per_second': 1.176, 'train_steps_per_second': 0.147, 'train_loss': 0.42315439456195447, 'epoch': 3.0})"
      ]
     },
     "execution_count": 24,
     "metadata": {},
     "output_type": "execute_result"
    }
   ],
   "source": [
    "# Set up the training arguments and trainer\n",
    "training_args = TrainingArguments(\n",
    "    output_dir=\"./BERT_results\",\n",
    "    num_train_epochs=3,\n",
    "    per_device_train_batch_size=8,\n",
    "    per_device_eval_batch_size=8,\n",
    "    logging_dir=\"./logs\",\n",
    "    logging_steps=100,\n",
    "    evaluation_strategy=\"steps\",\n",
    "    save_strategy=\"no\",\n",
    "    learning_rate=1e-3,\n",
    "    seed=42\n",
    ")\n",
    "\n",
    "trainer = Trainer(\n",
    "    model=model,\n",
    "    args=training_args,\n",
    "    train_dataset=train_dataset,\n",
    "    eval_dataset=val_dataset,\n",
    ")\n",
    "\n",
    "# Train the model\n",
    "trainer.train()"
   ]
  },
  {
   "cell_type": "code",
   "execution_count": null,
   "metadata": {},
   "outputs": [],
   "source": [
    "# save trainer (concatenated)\n",
    "trainer.save_model('./BERT_saved_model_concatenated')"
   ]
  },
  {
   "cell_type": "code",
   "execution_count": 14,
   "metadata": {},
   "outputs": [],
   "source": [
    "# load trainer (concatenated)\n",
    "model = BertForSequenceClassification.from_pretrained('./BERT_saved_model_concatenated')"
   ]
  },
  {
   "attachments": {},
   "cell_type": "markdown",
   "metadata": {},
   "source": [
    "## Make predictions on Test Data"
   ]
  },
  {
   "cell_type": "code",
   "execution_count": 25,
   "metadata": {},
   "outputs": [],
   "source": [
    "# Make predictions on the test data\n",
    "test_pipeline = TextClassificationPipeline(model=model, tokenizer=tokenizer)\n",
    "predictions = test_pipeline(test_data[\"concatenated\"].to_list())\n",
    "\n",
    "# Save the predictions to a CSV file\n",
    "test_data[\"target\"] = [prediction[\"label\"].split(\"_\")[-1] for prediction in predictions]\n",
    "test_data[[\"id\", \"target\"]].to_csv(\"BERT_predictions/BERT_predictions_concatenated.csv\", index=False)"
   ]
  },
  {
   "attachments": {},
   "cell_type": "markdown",
   "metadata": {},
   "source": [
    "## Conclusion\n",
    "\n",
    "This achieved an accuracy score of Score: `0.81673` based on the Kaggle submission page. <br>\n",
    " This is significantly higher than the scores achieved by the traditional models we have trained. <br>\n",
    " It is important to note that the model training took more than `10 hours`, so there is a need to optimize the training speed such as the approach taken by `BERT_CC.ipynb` and `BERT_numerical.ipynb` by getting the hidden states instead. Due to the lack of time, this is a sufficiently good enough model without further hyperparameter fine-tuning."
   ]
  },
  {
   "cell_type": "markdown",
   "metadata": {},
   "source": []
  }
 ],
 "metadata": {
  "kernelspec": {
   "display_name": "Python 3",
   "language": "python",
   "name": "python3"
  },
  "language_info": {
   "codemirror_mode": {
    "name": "ipython",
    "version": 3
   },
   "file_extension": ".py",
   "mimetype": "text/x-python",
   "name": "python",
   "nbconvert_exporter": "python",
   "pygments_lexer": "ipython3",
   "version": "3.11.3"
  },
  "orig_nbformat": 4
 },
 "nbformat": 4,
 "nbformat_minor": 2
}
