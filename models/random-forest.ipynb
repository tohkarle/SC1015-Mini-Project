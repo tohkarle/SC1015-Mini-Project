{
 "cells": [
  {
   "cell_type": "code",
   "execution_count": 24,
   "metadata": {},
   "outputs": [],
   "source": [
    "import numpy as np\n",
    "import pandas as pd\n",
    "from sklearn.ensemble import RandomForestClassifier\n",
    "from sklearn.model_selection import StratifiedKFold\n",
    "from sklearn.metrics import accuracy_score\n",
    "from sklearn.metrics import f1_score"
   ]
  },
  {
   "attachments": {},
   "cell_type": "markdown",
   "metadata": {},
   "source": [
    "### Random Forest Model\n",
    "All datasets below will be passed through a Stratified K-Fold and a Random Forest Model to test for accuracy.\n",
    "The best performing training dataset will be used as the main dataset for tuning the Random Forest Model."
   ]
  },
  {
   "cell_type": "code",
   "execution_count": 25,
   "metadata": {},
   "outputs": [],
   "source": [
    "train_glove_0v = pd.read_csv('../numerical_datasets/train_data_mod_glove_50d_0v_numerical.csv')\n",
    "test_glove_0v =  pd.read_csv('../numerical_datasets/test_data_mod_glove_50d_0v_numerical.csv')\n",
    "train_glove_custom = pd.read_csv('../numerical_datasets/train_data_mod_glove_50d_custom_numerical.csv')\n",
    "test_glove_custom =  pd.read_csv('../numerical_datasets/test_data_mod_glove_50d_custom_numerical.csv')\n",
    "train_fasttext = pd.read_csv('../numerical_datasets/train_data_mod_fasttext_300d_numerical.csv')\n",
    "test_fasttext =  pd.read_csv('../numerical_datasets/test_data_mod_fasttext_300d_numerical.csv')\n",
    "train_word2vec = pd.read_csv('../numerical_datasets/train_data_mod_word2vec_50d_numerical.csv')\n",
    "test_word2vec =  pd.read_csv('../numerical_datasets/test_data_mod_word2vec_50d_numerical.csv')"
   ]
  },
  {
   "cell_type": "code",
   "execution_count": 26,
   "metadata": {},
   "outputs": [
    {
     "data": {
      "text/plain": [
       "Index(['id', 'target', 'keyword_encoded', 'tweet_length', 'punctuation_count',\n",
       "       'embedding_0', 'embedding_1', 'embedding_2', 'embedding_3',\n",
       "       'embedding_4', 'embedding_5', 'embedding_6', 'embedding_7',\n",
       "       'embedding_8', 'embedding_9', 'embedding_10', 'embedding_11',\n",
       "       'embedding_12', 'embedding_13', 'embedding_14', 'embedding_15',\n",
       "       'embedding_16', 'embedding_17', 'embedding_18', 'embedding_19',\n",
       "       'embedding_20', 'embedding_21', 'embedding_22', 'embedding_23',\n",
       "       'embedding_24', 'embedding_25', 'embedding_26', 'embedding_27',\n",
       "       'embedding_28', 'embedding_29', 'embedding_30', 'embedding_31',\n",
       "       'embedding_32', 'embedding_33', 'embedding_34', 'embedding_35',\n",
       "       'embedding_36', 'embedding_37', 'embedding_38', 'embedding_39',\n",
       "       'embedding_40', 'embedding_41', 'embedding_42', 'embedding_43',\n",
       "       'embedding_44', 'embedding_45', 'embedding_46', 'embedding_47',\n",
       "       'embedding_48', 'embedding_49'],\n",
       "      dtype='object')"
      ]
     },
     "execution_count": 26,
     "metadata": {},
     "output_type": "execute_result"
    }
   ],
   "source": [
    "train_glove_0v.columns"
   ]
  },
  {
   "cell_type": "code",
   "execution_count": 27,
   "metadata": {},
   "outputs": [],
   "source": [
    "features = ['keyword_encoded', 'tweet_length', 'punctuation_count',\n",
    "       'embedding_0', 'embedding_1', 'embedding_2', 'embedding_3',\n",
    "       'embedding_4', 'embedding_5', 'embedding_6', 'embedding_7',\n",
    "       'embedding_8', 'embedding_9', 'embedding_10', 'embedding_11',\n",
    "       'embedding_12', 'embedding_13', 'embedding_14', 'embedding_15',\n",
    "       'embedding_16', 'embedding_17', 'embedding_18', 'embedding_19',\n",
    "       'embedding_20', 'embedding_21', 'embedding_22', 'embedding_23',\n",
    "       'embedding_24', 'embedding_25', 'embedding_26', 'embedding_27',\n",
    "       'embedding_28', 'embedding_29', 'embedding_30', 'embedding_31',\n",
    "       'embedding_32', 'embedding_33', 'embedding_34', 'embedding_35',\n",
    "       'embedding_36', 'embedding_37', 'embedding_38', 'embedding_39',\n",
    "       'embedding_40', 'embedding_41', 'embedding_42', 'embedding_43',\n",
    "       'embedding_44', 'embedding_45', 'embedding_46', 'embedding_47',\n",
    "       'embedding_48', 'embedding_49']"
   ]
  },
  {
   "cell_type": "code",
   "execution_count": 39,
   "metadata": {},
   "outputs": [],
   "source": [
    "# Define the number of folds for K-fold cross-validation\n",
    "num_folds = 5\n",
    "\n",
    "# Instantiate the Random Forest classifier\n",
    "rfc = RandomForestClassifier(random_state=42)\n",
    "\n",
    "# Instantiate the Stratified K-fold cross-validator\n",
    "skf = StratifiedKFold(n_splits=num_folds, shuffle=True, random_state=42)\n",
    "\n"
   ]
  },
  {
   "attachments": {},
   "cell_type": "markdown",
   "metadata": {},
   "source": [
    "Here we define the function that will be used to train and evaluate the model's accuracy based on the Stratified K-Fold."
   ]
  },
  {
   "cell_type": "code",
   "execution_count": 40,
   "metadata": {},
   "outputs": [],
   "source": [
    "def train_and_evaluate(rfc, X, y):\n",
    "    # Initialize lists to store accuracy and F1 scores for each fold\n",
    "    accuracy_scores = []\n",
    "    f1_scores = []\n",
    "\n",
    "    # Loop through each fold of the K-fold cross-validator\n",
    "    for train_index, test_index in skf.split(X, y):\n",
    "        # Split the data into training and validation sets for this fold\n",
    "        X_train, X_val = X.iloc[train_index], X.iloc[test_index]\n",
    "        y_train, y_val = y.iloc[train_index], y.iloc[test_index]\n",
    "\n",
    "        # Train the Random Forest classifier on the training data\n",
    "        rfc.fit(X_train, y_train)\n",
    "\n",
    "        # Make predictions on the validation data\n",
    "        y_pred = rfc.predict(X_val)\n",
    "\n",
    "        # Calculate the validation accuracy score for this fold\n",
    "        accuracy = accuracy_score(y_val, y_pred)\n",
    "        accuracy_scores.append(accuracy)\n",
    "\n",
    "        # Calculate the validation F1 score for this fold\n",
    "        f1 = f1_score(y_val, y_pred, average='binary')  # Use 'weighted' for multi-class problems\n",
    "        f1_scores.append(f1)\n",
    "\n",
    "    # Calculate the mean and standard deviation of the validation accuracy and F1 scores\n",
    "    mean_accuracy = np.mean(accuracy_scores)\n",
    "    std_accuracy = np.std(accuracy_scores)\n",
    "    mean_f1 = np.mean(f1_scores)\n",
    "    std_f1 = np.std(f1_scores)\n",
    "\n",
    "    # Print the mean and standard deviation of the validation accuracy and F1 scores\n",
    "    print(f\"Mean Accuracy: {mean_accuracy:.4f} +/- {std_accuracy:.4f}\")\n",
    "    print(f\"Mean F1 Score: {mean_f1:.4f} +/- {std_f1:.4f}\")\n",
    "\n"
   ]
  },
  {
   "attachments": {},
   "cell_type": "markdown",
   "metadata": {},
   "source": [
    "#### Accuracy of train_glove_0v"
   ]
  },
  {
   "cell_type": "code",
   "execution_count": 41,
   "metadata": {},
   "outputs": [],
   "source": [
    "# Split the dataframe into features (X) and labels (y)\n",
    "X = train_glove_0v[features]\n",
    "y = train_glove_0v['target']"
   ]
  },
  {
   "cell_type": "code",
   "execution_count": 42,
   "metadata": {},
   "outputs": [
    {
     "name": "stdout",
     "output_type": "stream",
     "text": [
      "Mean Accuracy: 0.7447 +/- 0.0267\n",
      "Mean F1 Score: 0.6730 +/- 0.0334\n"
     ]
    }
   ],
   "source": [
    "train_and_evaluate(rfc, X, y)"
   ]
  },
  {
   "attachments": {},
   "cell_type": "markdown",
   "metadata": {},
   "source": [
    "### Accuracy of train_glove_custom"
   ]
  },
  {
   "cell_type": "code",
   "execution_count": 43,
   "metadata": {},
   "outputs": [],
   "source": [
    "X = train_glove_custom[features]\n",
    "y = train_glove_custom['target']"
   ]
  },
  {
   "cell_type": "code",
   "execution_count": 44,
   "metadata": {},
   "outputs": [
    {
     "name": "stdout",
     "output_type": "stream",
     "text": [
      "Mean Accuracy: 0.7453 +/- 0.0337\n",
      "Mean F1 Score: 0.6742 +/- 0.0400\n"
     ]
    }
   ],
   "source": [
    "train_and_evaluate(rfc, X, y)"
   ]
  },
  {
   "attachments": {},
   "cell_type": "markdown",
   "metadata": {},
   "source": [
    "### Accuracy of train_word2vec_50d"
   ]
  },
  {
   "cell_type": "code",
   "execution_count": 45,
   "metadata": {},
   "outputs": [],
   "source": [
    "X = train_word2vec[features]\n",
    "y = train_word2vec['target']\n"
   ]
  },
  {
   "cell_type": "code",
   "execution_count": 46,
   "metadata": {},
   "outputs": [
    {
     "name": "stdout",
     "output_type": "stream",
     "text": [
      "Mean Accuracy: 0.7408 +/- 0.0283\n",
      "Mean F1 Score: 0.6691 +/- 0.0332\n"
     ]
    }
   ],
   "source": [
    "train_and_evaluate(rfc, X, y)"
   ]
  },
  {
   "attachments": {},
   "cell_type": "markdown",
   "metadata": {},
   "source": [
    "### Accuracy of train_fasttext_300d"
   ]
  },
  {
   "cell_type": "code",
   "execution_count": 47,
   "metadata": {},
   "outputs": [],
   "source": [
    "train_fasttext_features = train_fasttext.drop(['id', 'target'], axis=1, inplace=False)"
   ]
  },
  {
   "cell_type": "code",
   "execution_count": 48,
   "metadata": {},
   "outputs": [],
   "source": [
    "X = train_fasttext_features\n",
    "y = train_fasttext['target']"
   ]
  },
  {
   "cell_type": "code",
   "execution_count": 49,
   "metadata": {},
   "outputs": [
    {
     "name": "stdout",
     "output_type": "stream",
     "text": [
      "Mean Accuracy: 0.7173 +/- 0.0195\n",
      "Mean F1 Score: 0.6202 +/- 0.0301\n"
     ]
    }
   ],
   "source": [
    "train_and_evaluate(rfc, X, y)"
   ]
  },
  {
   "attachments": {},
   "cell_type": "markdown",
   "metadata": {},
   "source": [
    "### Dataset Evaluation"
   ]
  },
  {
   "attachments": {},
   "cell_type": "markdown",
   "metadata": {},
   "source": [
    "Based on the accuracy and F1-score, we can conclude that glove_50d_custom performed the best when passed into the Random Forest Classifier with default configuration. \n",
    "- Interestingly, the fasttext embedding model with 300 columns (6 times more than the glove and wordvec dataset), performs poorer with respect to the metrics used. This could mean that the embedding dimension chosen previously should be lower than 300 for better performance."
   ]
  },
  {
   "cell_type": "code",
   "execution_count": 50,
   "metadata": {},
   "outputs": [],
   "source": [
    "from sklearn.model_selection import RandomizedSearchCV"
   ]
  },
  {
   "cell_type": "code",
   "execution_count": 51,
   "metadata": {},
   "outputs": [],
   "source": [
    "def optimize_hyperparameters(X, y):\n",
    "    # Define the hyperparameter search space\n",
    "    param_dist = {\n",
    "        'n_estimators': [10, 50, 100, 200, 500],\n",
    "        'max_depth': [None, 10, 20, 30, 40, 50],\n",
    "        'min_samples_split': [2, 5, 10],\n",
    "        'min_samples_leaf': [1, 2, 4],\n",
    "        'max_features': ['auto', 'sqrt'],\n",
    "        'bootstrap': [True, False]\n",
    "    }\n",
    "\n",
    "    # Create a Random Forest Classifier instance\n",
    "    rfc = RandomForestClassifier(random_state=42)\n",
    "\n",
    "    # Create the RandomizedSearchCV instance\n",
    "    random_search = RandomizedSearchCV(\n",
    "        rfc, param_distributions=param_dist, n_iter=100, cv=5, scoring='f1', n_jobs=-1, random_state=42\n",
    "    )\n",
    "\n",
    "    # Fit the RandomizedSearchCV instance to the data\n",
    "    random_search.fit(X, y)\n",
    "\n",
    "    # Print the best combination of hyperparameters\n",
    "    print(\"Best hyperparameters:\", random_search.best_params_)\n",
    "\n",
    "    # Return the best estimator\n",
    "    return random_search.best_estimator_"
   ]
  },
  {
   "cell_type": "code",
   "execution_count": 52,
   "metadata": {},
   "outputs": [],
   "source": [
    "# Using the glove_0v, glove_custom, word2vec dataset\n",
    "X = train_glove_0v[features]\n",
    "y = train_glove_0v['target']"
   ]
  },
  {
   "cell_type": "code",
   "execution_count": 53,
   "metadata": {},
   "outputs": [],
   "source": [
    "best_rfc = optimize_hyperparameters(X, y)"
   ]
  },
  {
   "cell_type": "code",
   "execution_count": null,
   "metadata": {},
   "outputs": [],
   "source": [
    "train_and_evaluate(best_rfc, X, y)"
   ]
  }
 ],
 "metadata": {
  "kernelspec": {
   "display_name": "Python 3",
   "language": "python",
   "name": "python3"
  },
  "language_info": {
   "codemirror_mode": {
    "name": "ipython",
    "version": 3
   },
   "file_extension": ".py",
   "mimetype": "text/x-python",
   "name": "python",
   "nbconvert_exporter": "python",
   "pygments_lexer": "ipython3",
   "version": "3.11.2"
  },
  "orig_nbformat": 4
 },
 "nbformat": 4,
 "nbformat_minor": 2
}
