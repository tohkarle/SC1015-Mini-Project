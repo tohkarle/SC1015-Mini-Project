{
 "cells": [
  {
   "attachments": {},
   "cell_type": "markdown",
   "metadata": {},
   "source": [
    "### Word Embedding using Word2Vec\n",
    "\n",
    "We will use Word2Vec to create word embeddings for our preprocessed text. \n",
    "\n",
    "The advantage of using Word Embedding over other methods like Bag of Words or TF-IDF is that it can capture the semantic meaning of words in the text. This means that words with similar meanings will have similar vector representations. This can help improve the performance of our machine learning model.\n",
    "\n",
    "First, let's import the necessary libraries and train our Word2Vec model on the tokenized text."
   ]
  },
  {
   "cell_type": "code",
   "execution_count": 16,
   "metadata": {},
   "outputs": [],
   "source": [
    "import pandas as pd\n",
    "import numpy as np\n",
    "from gensim.models import Word2Vec\n",
    "\n",
    "train_data_mod = pd.read_csv('check.csv')\n",
    "\n",
    "preprocessed_text = train_data_mod['preprocess_text'].tolist()\n",
    "\n",
    "word2vec_model = Word2Vec(sentences=preprocessed_text, vector_size=100, window=5, min_count=1, workers=4)\n",
    "\n",
    "word2vec_model.save(\"word2vec_model.model\")"
   ]
  },
  {
   "attachments": {},
   "cell_type": "markdown",
   "metadata": {},
   "source": [
    "Now that we have trained our Word2Vec model, let's use it to obtain word vectors for our preprocessed text."
   ]
  },
  {
   "cell_type": "code",
   "execution_count": 17,
   "metadata": {},
   "outputs": [
    {
     "data": {
      "text/html": [
       "<div>\n",
       "<style scoped>\n",
       "    .dataframe tbody tr th:only-of-type {\n",
       "        vertical-align: middle;\n",
       "    }\n",
       "\n",
       "    .dataframe tbody tr th {\n",
       "        vertical-align: top;\n",
       "    }\n",
       "\n",
       "    .dataframe thead th {\n",
       "        text-align: right;\n",
       "    }\n",
       "</style>\n",
       "<table border=\"1\" class=\"dataframe\">\n",
       "  <thead>\n",
       "    <tr style=\"text-align: right;\">\n",
       "      <th></th>\n",
       "      <th>keyword</th>\n",
       "      <th>word2vec_vectors</th>\n",
       "    </tr>\n",
       "  </thead>\n",
       "  <tbody>\n",
       "    <tr>\n",
       "      <th>0</th>\n",
       "      <td>NaN</td>\n",
       "      <td>[0.09022216, -0.114781715, -0.15263812, -0.088...</td>\n",
       "    </tr>\n",
       "    <tr>\n",
       "      <th>1</th>\n",
       "      <td>NaN</td>\n",
       "      <td>[0.104537025, -0.13696301, -0.16332997, -0.073...</td>\n",
       "    </tr>\n",
       "    <tr>\n",
       "      <th>2</th>\n",
       "      <td>NaN</td>\n",
       "      <td>[0.08621241, -0.121238165, -0.1477558, -0.0964...</td>\n",
       "    </tr>\n",
       "    <tr>\n",
       "      <th>3</th>\n",
       "      <td>NaN</td>\n",
       "      <td>[0.077229485, -0.101089165, -0.18530852, -0.11...</td>\n",
       "    </tr>\n",
       "    <tr>\n",
       "      <th>4</th>\n",
       "      <td>NaN</td>\n",
       "      <td>[0.09032933, -0.1323699, -0.15754971, -0.05837...</td>\n",
       "    </tr>\n",
       "  </tbody>\n",
       "</table>\n",
       "</div>"
      ],
      "text/plain": [
       "  keyword                                   word2vec_vectors\n",
       "0     NaN  [0.09022216, -0.114781715, -0.15263812, -0.088...\n",
       "1     NaN  [0.104537025, -0.13696301, -0.16332997, -0.073...\n",
       "2     NaN  [0.08621241, -0.121238165, -0.1477558, -0.0964...\n",
       "3     NaN  [0.077229485, -0.101089165, -0.18530852, -0.11...\n",
       "4     NaN  [0.09032933, -0.1323699, -0.15754971, -0.05837..."
      ]
     },
     "execution_count": 17,
     "metadata": {},
     "output_type": "execute_result"
    }
   ],
   "source": [
    "def average_word_vector(tokens, word2vec_model, vector_size):\n",
    "    word_vectors = [word2vec_model.wv[token] for token in tokens if token in word2vec_model.wv.index_to_key]\n",
    "    \n",
    "    if not word_vectors:\n",
    "        return np.zeros(vector_size)\n",
    "    \n",
    "    return np.mean(word_vectors, axis=0)\n",
    "\n",
    "vector_size = 100\n",
    "train_data_mod['word2vec_vectors'] = train_data_mod['preprocess_text'].apply(lambda x: average_word_vector(x, word2vec_model, vector_size))\n",
    "\n",
    "train_data_mod[['keyword', 'word2vec_vectors']].head()\n",
    "# train_data_mod['word2vec_vectors'].head()"
   ]
  }
 ],
 "metadata": {
  "kernelspec": {
   "display_name": "Python 3",
   "language": "python",
   "name": "python3"
  },
  "language_info": {
   "codemirror_mode": {
    "name": "ipython",
    "version": 3
   },
   "file_extension": ".py",
   "mimetype": "text/x-python",
   "name": "python",
   "nbconvert_exporter": "python",
   "pygments_lexer": "ipython3",
   "version": "3.10.6"
  },
  "orig_nbformat": 4
 },
 "nbformat": 4,
 "nbformat_minor": 2
}
