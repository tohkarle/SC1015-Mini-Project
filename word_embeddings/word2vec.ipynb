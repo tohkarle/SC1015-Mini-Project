{
 "cells": [
  {
   "attachments": {},
   "cell_type": "markdown",
   "metadata": {},
   "source": [
    "### Word Embedding using Word2Vec\n",
    "\n",
    "We will use Word2Vec to create word embeddings for our preprocessed text. \n",
    "\n",
    "The advantage of using Word Embedding over other methods like Bag of Words or TF-IDF is that it can capture the semantic meaning of words in the text. This means that words with similar meanings will have similar vector representations. This can help improve the performance of our machine learning model.\n",
    "\n",
    "First, let's import the necessary libraries and train our Word2Vec model on the tokenized text."
   ]
  },
  {
   "cell_type": "code",
   "execution_count": 1,
   "metadata": {},
   "outputs": [],
   "source": [
    "import pandas as pd\n",
    "import numpy as np\n",
    "from gensim.models import Word2Vec\n",
    "\n",
    "\n",
    "train_data_mod = pd.read_csv('../preprocessing/train_data_mod.csv')\n",
    "test_data_mod = pd.read_csv('../preprocessing/test_data_mod.csv')\n",
    "\n",
    "\n",
    "preprocessed_text = train_data_mod['preprocess_text'].tolist()\n",
    "\n",
    "\n",
    "word2vec_model = Word2Vec(sentences=preprocessed_text, vector_size=50, window=5, min_count=1, workers=4)\n",
    "\n",
    "word2vec_model.save(\"word2vec_model.model\")"
   ]
  },
  {
   "attachments": {},
   "cell_type": "markdown",
   "metadata": {},
   "source": [
    "Now that we have trained our Word2Vec model, let's use it to obtain word vectors for our preprocessed text."
   ]
  },
  {
   "cell_type": "code",
   "execution_count": 2,
   "metadata": {},
   "outputs": [
    {
     "data": {
      "text/html": [
       "<div>\n",
       "<style scoped>\n",
       "    .dataframe tbody tr th:only-of-type {\n",
       "        vertical-align: middle;\n",
       "    }\n",
       "\n",
       "    .dataframe tbody tr th {\n",
       "        vertical-align: top;\n",
       "    }\n",
       "\n",
       "    .dataframe thead th {\n",
       "        text-align: right;\n",
       "    }\n",
       "</style>\n",
       "<table border=\"1\" class=\"dataframe\">\n",
       "  <thead>\n",
       "    <tr style=\"text-align: right;\">\n",
       "      <th></th>\n",
       "      <th>keyword</th>\n",
       "      <th>word2vec_vectors</th>\n",
       "    </tr>\n",
       "  </thead>\n",
       "  <tbody>\n",
       "    <tr>\n",
       "      <th>0</th>\n",
       "      <td>missing</td>\n",
       "      <td>[0.0005248459, -0.038611013, -0.06718053, -0.3...</td>\n",
       "    </tr>\n",
       "    <tr>\n",
       "      <th>1</th>\n",
       "      <td>missing</td>\n",
       "      <td>[0.023838915, -0.027701743, -0.08011638, -0.37...</td>\n",
       "    </tr>\n",
       "    <tr>\n",
       "      <th>2</th>\n",
       "      <td>missing</td>\n",
       "      <td>[-0.017775554, -0.050490983, -0.0845786, -0.36...</td>\n",
       "    </tr>\n",
       "    <tr>\n",
       "      <th>3</th>\n",
       "      <td>missing</td>\n",
       "      <td>[-0.035682485, -0.01963313, -0.093268305, -0.3...</td>\n",
       "    </tr>\n",
       "    <tr>\n",
       "      <th>4</th>\n",
       "      <td>missing</td>\n",
       "      <td>[-0.0022137025, -0.07134746, -0.0651533, -0.38...</td>\n",
       "    </tr>\n",
       "  </tbody>\n",
       "</table>\n",
       "</div>"
      ],
      "text/plain": [
       "   keyword                                   word2vec_vectors\n",
       "0  missing  [0.0005248459, -0.038611013, -0.06718053, -0.3...\n",
       "1  missing  [0.023838915, -0.027701743, -0.08011638, -0.37...\n",
       "2  missing  [-0.017775554, -0.050490983, -0.0845786, -0.36...\n",
       "3  missing  [-0.035682485, -0.01963313, -0.093268305, -0.3...\n",
       "4  missing  [-0.0022137025, -0.07134746, -0.0651533, -0.38..."
      ]
     },
     "execution_count": 2,
     "metadata": {},
     "output_type": "execute_result"
    }
   ],
   "source": [
    "def average_word_vector(tokens, word2vec_model, vector_size):\n",
    "    word_vectors = [word2vec_model.wv[token] for token in tokens if token in word2vec_model.wv.index_to_key]\n",
    "    \n",
    "    if not word_vectors:\n",
    "        return np.zeros(vector_size)\n",
    "    \n",
    "    return np.mean(word_vectors, axis=0)\n",
    "\n",
    "vector_size = 50\n",
    "train_data_mod['word2vec_vectors'] = train_data_mod['preprocess_text'].apply(lambda x: average_word_vector(x, word2vec_model, vector_size))\n",
    "test_data_mod['word2vec_vectors'] = test_data_mod['preprocess_text'].apply(lambda x: average_word_vector(x, word2vec_model, vector_size))\n",
    "train_data_mod[['keyword', 'word2vec_vectors']].head()\n"
   ]
  },
  {
   "cell_type": "code",
   "execution_count": 3,
   "metadata": {},
   "outputs": [],
   "source": [
    "# export\n",
    "train_data_mod.to_csv('train_data_mod_word2vec_50d.csv', index=False)\n",
    "test_data_mod.to_csv('test_data_mod_word2vec_50d.csv', index=False)"
   ]
  },
  {
   "cell_type": "code",
   "execution_count": null,
   "metadata": {},
   "outputs": [],
   "source": []
  }
 ],
 "metadata": {
  "kernelspec": {
   "display_name": "Python 3",
   "language": "python",
   "name": "python3"
  },
  "language_info": {
   "codemirror_mode": {
    "name": "ipython",
    "version": 3
   },
   "file_extension": ".py",
   "mimetype": "text/x-python",
   "name": "python",
   "nbconvert_exporter": "python",
   "pygments_lexer": "ipython3",
   "version": "3.11.2"
  }
 },
 "nbformat": 4,
 "nbformat_minor": 2
}
